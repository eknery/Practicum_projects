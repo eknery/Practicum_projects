{
 "cells": [
  {
   "cell_type": "markdown",
   "metadata": {},
   "source": [
    "# Oferecendo o melhor plano de celular"
   ]
  },
  {
   "cell_type": "markdown",
   "metadata": {},
   "source": [
    "Neste projeto tenho o objetivo de desenvolver um modelo de apredizado de máquina que possa recomendar um plano de celular para os clientes com base no comportamento de uso do celular dos mesmos. Eu utilizei os dados *fictícios* da empresa Megaline, que oferece dois planos de celular: Smart ou Ultra. Os dados de comportamento dos clientes já foram processados anteriormente. Os dados incluem as seguintes informações: \n",
    "\n",
    "- сalls — número de chamadas\n",
    "- minutes — duração total da chamada em minutos\n",
    "- messages — número de mensagens de texto\n",
    "- mb_used — Tráfego de Internet usado em MB\n",
    "- is_ultra — plano para o mês atual (Ultra - 1, Smart - 0)"
   ]
  },
  {
   "cell_type": "markdown",
   "metadata": {},
   "source": [
    "## Importando bibliotecas e dados"
   ]
  },
  {
   "cell_type": "code",
   "execution_count": 1,
   "metadata": {},
   "outputs": [],
   "source": [
    "### importando bibliotecas\n",
    "import pandas as pd\n",
    "import numpy as np\n",
    "import matplotlib.pyplot as plt\n",
    "import seaborn as sbn\n",
    "from sklearn.model_selection import train_test_split\n",
    "from sklearn.linear_model import LogisticRegression\n",
    "from sklearn.tree import DecisionTreeClassifier\n",
    "from sklearn.ensemble import RandomForestClassifier\n",
    "from sklearn.metrics import accuracy_score"
   ]
  },
  {
   "cell_type": "code",
   "execution_count": 2,
   "metadata": {},
   "outputs": [],
   "source": [
    "### importando dados\n",
    "try:\n",
    "    behavior = pd.read_csv('users_behavior_upd.csv')\n",
    "except:\n",
    "    behavior = pd.read_csv(\"/datasets/users_behavior_upd.csv\")"
   ]
  },
  {
   "cell_type": "markdown",
   "metadata": {},
   "source": [
    "## Estudando os dados"
   ]
  },
  {
   "cell_type": "code",
   "execution_count": 3,
   "metadata": {},
   "outputs": [
    {
     "data": {
      "text/html": [
       "<div>\n",
       "<style scoped>\n",
       "    .dataframe tbody tr th:only-of-type {\n",
       "        vertical-align: middle;\n",
       "    }\n",
       "\n",
       "    .dataframe tbody tr th {\n",
       "        vertical-align: top;\n",
       "    }\n",
       "\n",
       "    .dataframe thead th {\n",
       "        text-align: right;\n",
       "    }\n",
       "</style>\n",
       "<table border=\"1\" class=\"dataframe\">\n",
       "  <thead>\n",
       "    <tr style=\"text-align: right;\">\n",
       "      <th></th>\n",
       "      <th>calls</th>\n",
       "      <th>minutes</th>\n",
       "      <th>messages</th>\n",
       "      <th>mb_used</th>\n",
       "      <th>is_ultimate</th>\n",
       "    </tr>\n",
       "  </thead>\n",
       "  <tbody>\n",
       "    <tr>\n",
       "      <th>0</th>\n",
       "      <td>40.0</td>\n",
       "      <td>311.90</td>\n",
       "      <td>83.0</td>\n",
       "      <td>19915.42</td>\n",
       "      <td>0</td>\n",
       "    </tr>\n",
       "    <tr>\n",
       "      <th>1</th>\n",
       "      <td>85.0</td>\n",
       "      <td>516.75</td>\n",
       "      <td>56.0</td>\n",
       "      <td>22696.96</td>\n",
       "      <td>0</td>\n",
       "    </tr>\n",
       "    <tr>\n",
       "      <th>2</th>\n",
       "      <td>77.0</td>\n",
       "      <td>467.66</td>\n",
       "      <td>86.0</td>\n",
       "      <td>21060.45</td>\n",
       "      <td>0</td>\n",
       "    </tr>\n",
       "    <tr>\n",
       "      <th>3</th>\n",
       "      <td>106.0</td>\n",
       "      <td>745.53</td>\n",
       "      <td>81.0</td>\n",
       "      <td>8437.39</td>\n",
       "      <td>1</td>\n",
       "    </tr>\n",
       "    <tr>\n",
       "      <th>4</th>\n",
       "      <td>66.0</td>\n",
       "      <td>418.74</td>\n",
       "      <td>1.0</td>\n",
       "      <td>14502.75</td>\n",
       "      <td>0</td>\n",
       "    </tr>\n",
       "    <tr>\n",
       "      <th>5</th>\n",
       "      <td>58.0</td>\n",
       "      <td>344.56</td>\n",
       "      <td>21.0</td>\n",
       "      <td>15823.37</td>\n",
       "      <td>0</td>\n",
       "    </tr>\n",
       "    <tr>\n",
       "      <th>6</th>\n",
       "      <td>57.0</td>\n",
       "      <td>431.64</td>\n",
       "      <td>20.0</td>\n",
       "      <td>3738.90</td>\n",
       "      <td>1</td>\n",
       "    </tr>\n",
       "    <tr>\n",
       "      <th>7</th>\n",
       "      <td>15.0</td>\n",
       "      <td>132.40</td>\n",
       "      <td>6.0</td>\n",
       "      <td>21911.60</td>\n",
       "      <td>0</td>\n",
       "    </tr>\n",
       "    <tr>\n",
       "      <th>8</th>\n",
       "      <td>7.0</td>\n",
       "      <td>43.39</td>\n",
       "      <td>3.0</td>\n",
       "      <td>2538.67</td>\n",
       "      <td>1</td>\n",
       "    </tr>\n",
       "    <tr>\n",
       "      <th>9</th>\n",
       "      <td>90.0</td>\n",
       "      <td>665.41</td>\n",
       "      <td>38.0</td>\n",
       "      <td>17358.61</td>\n",
       "      <td>0</td>\n",
       "    </tr>\n",
       "  </tbody>\n",
       "</table>\n",
       "</div>"
      ],
      "text/plain": [
       "   calls  minutes  messages   mb_used  is_ultimate\n",
       "0   40.0   311.90      83.0  19915.42            0\n",
       "1   85.0   516.75      56.0  22696.96            0\n",
       "2   77.0   467.66      86.0  21060.45            0\n",
       "3  106.0   745.53      81.0   8437.39            1\n",
       "4   66.0   418.74       1.0  14502.75            0\n",
       "5   58.0   344.56      21.0  15823.37            0\n",
       "6   57.0   431.64      20.0   3738.90            1\n",
       "7   15.0   132.40       6.0  21911.60            0\n",
       "8    7.0    43.39       3.0   2538.67            1\n",
       "9   90.0   665.41      38.0  17358.61            0"
      ]
     },
     "execution_count": 3,
     "metadata": {},
     "output_type": "execute_result"
    }
   ],
   "source": [
    "behavior.head(10)"
   ]
  },
  {
   "cell_type": "code",
   "execution_count": 4,
   "metadata": {
    "scrolled": true
   },
   "outputs": [
    {
     "name": "stdout",
     "output_type": "stream",
     "text": [
      "<class 'pandas.core.frame.DataFrame'>\n",
      "RangeIndex: 3214 entries, 0 to 3213\n",
      "Data columns (total 5 columns):\n",
      " #   Column       Non-Null Count  Dtype  \n",
      "---  ------       --------------  -----  \n",
      " 0   calls        3214 non-null   float64\n",
      " 1   minutes      3214 non-null   float64\n",
      " 2   messages     3214 non-null   float64\n",
      " 3   mb_used      3214 non-null   float64\n",
      " 4   is_ultimate  3214 non-null   int64  \n",
      "dtypes: float64(4), int64(1)\n",
      "memory usage: 125.7 KB\n"
     ]
    }
   ],
   "source": [
    "behavior.info()"
   ]
  },
  {
   "cell_type": "markdown",
   "metadata": {},
   "source": [
    "**Comentário**: Não existem dados faltantes, e todas as variáveis estão com tipo adequado de dados."
   ]
  },
  {
   "cell_type": "markdown",
   "metadata": {},
   "source": [
    "## Separando dados para treino, validação e teste"
   ]
  },
  {
   "cell_type": "code",
   "execution_count": 5,
   "metadata": {},
   "outputs": [
    {
     "data": {
      "text/html": [
       "<div>\n",
       "<style scoped>\n",
       "    .dataframe tbody tr th:only-of-type {\n",
       "        vertical-align: middle;\n",
       "    }\n",
       "\n",
       "    .dataframe tbody tr th {\n",
       "        vertical-align: top;\n",
       "    }\n",
       "\n",
       "    .dataframe thead th {\n",
       "        text-align: right;\n",
       "    }\n",
       "</style>\n",
       "<table border=\"1\" class=\"dataframe\">\n",
       "  <thead>\n",
       "    <tr style=\"text-align: right;\">\n",
       "      <th></th>\n",
       "      <th>calls</th>\n",
       "      <th>minutes</th>\n",
       "      <th>messages</th>\n",
       "      <th>mb_used</th>\n",
       "    </tr>\n",
       "  </thead>\n",
       "  <tbody>\n",
       "    <tr>\n",
       "      <th>0</th>\n",
       "      <td>40.0</td>\n",
       "      <td>311.90</td>\n",
       "      <td>83.0</td>\n",
       "      <td>19915.42</td>\n",
       "    </tr>\n",
       "    <tr>\n",
       "      <th>1</th>\n",
       "      <td>85.0</td>\n",
       "      <td>516.75</td>\n",
       "      <td>56.0</td>\n",
       "      <td>22696.96</td>\n",
       "    </tr>\n",
       "    <tr>\n",
       "      <th>2</th>\n",
       "      <td>77.0</td>\n",
       "      <td>467.66</td>\n",
       "      <td>86.0</td>\n",
       "      <td>21060.45</td>\n",
       "    </tr>\n",
       "    <tr>\n",
       "      <th>3</th>\n",
       "      <td>106.0</td>\n",
       "      <td>745.53</td>\n",
       "      <td>81.0</td>\n",
       "      <td>8437.39</td>\n",
       "    </tr>\n",
       "    <tr>\n",
       "      <th>4</th>\n",
       "      <td>66.0</td>\n",
       "      <td>418.74</td>\n",
       "      <td>1.0</td>\n",
       "      <td>14502.75</td>\n",
       "    </tr>\n",
       "  </tbody>\n",
       "</table>\n",
       "</div>"
      ],
      "text/plain": [
       "   calls  minutes  messages   mb_used\n",
       "0   40.0   311.90      83.0  19915.42\n",
       "1   85.0   516.75      56.0  22696.96\n",
       "2   77.0   467.66      86.0  21060.45\n",
       "3  106.0   745.53      81.0   8437.39\n",
       "4   66.0   418.74       1.0  14502.75"
      ]
     },
     "execution_count": 5,
     "metadata": {},
     "output_type": "execute_result"
    }
   ],
   "source": [
    "### separando os features\n",
    "features = behavior.drop(labels='is_ultimate', axis=1)\n",
    "features.head(5)"
   ]
  },
  {
   "cell_type": "code",
   "execution_count": 6,
   "metadata": {},
   "outputs": [
    {
     "data": {
      "text/plain": [
       "0    0\n",
       "1    0\n",
       "2    0\n",
       "3    1\n",
       "4    0\n",
       "Name: is_ultimate, dtype: int64"
      ]
     },
     "execution_count": 6,
     "metadata": {},
     "output_type": "execute_result"
    }
   ],
   "source": [
    "### separando o target\n",
    "target= behavior['is_ultimate']\n",
    "target.head(5)"
   ]
  },
  {
   "cell_type": "code",
   "execution_count": 7,
   "metadata": {},
   "outputs": [],
   "source": [
    "### separando dados de treino\n",
    "features_train, features_va_test, target_train, target_va_test = train_test_split(features, target, train_size=0.6, random_state= 42)"
   ]
  },
  {
   "cell_type": "code",
   "execution_count": 8,
   "metadata": {},
   "outputs": [],
   "source": [
    "### separando dados de validação e teste\n",
    "features_valid, features_test, target_valid, target_test = train_test_split(features_va_test, target_va_test, train_size=0.5, random_state= 42)"
   ]
  },
  {
   "cell_type": "markdown",
   "metadata": {},
   "source": [
    "**Comentário**: Eu separei 60% dos dados para o conjunto de treino, 20% para o conjunto de validação e outros 20% para o conjunto de teste."
   ]
  },
  {
   "cell_type": "markdown",
   "metadata": {},
   "source": [
    "## Treinando diferentes modelos"
   ]
  },
  {
   "cell_type": "markdown",
   "metadata": {},
   "source": [
    "### Treinando `Logistic regression`"
   ]
  },
  {
   "cell_type": "code",
   "execution_count": 9,
   "metadata": {},
   "outputs": [],
   "source": [
    "### preparando variáveis que receberão os resultados\n",
    "best_logis_model = None\n",
    "best_c_value = 1\n",
    "c_values = [0.1, 0.01, 0.001]\n",
    "best_logis_acc = 0"
   ]
  },
  {
   "cell_type": "code",
   "execution_count": 10,
   "metadata": {},
   "outputs": [
    {
     "name": "stdout",
     "output_type": "stream",
     "text": [
      "Regularização: 0.1, com acurácia de: 0.72\n",
      "Regularização: 0.01, com acurácia de: 0.74\n"
     ]
    }
   ],
   "source": [
    "### ajustando modelos logísticos com diferentes hiperparâmetros\n",
    "for c in c_values:\n",
    "    logis_model = LogisticRegression(solver= 'lbfgs', C = c, max_iter=1000, random_state=42)\n",
    "    logis_model.fit(features_train, target_train)\n",
    "    prediction_valid = logis_model.predict(features_valid)\n",
    "    logis_acc = accuracy_score(target_valid, prediction_valid)\n",
    "    if logis_acc > best_logis_acc:\n",
    "        best_logis_model = logis_model\n",
    "        best_c_value = c\n",
    "        best_logis_acc = logis_acc\n",
    "        print(f'Regularização: {c}, com acurácia de: {round(logis_acc,2)}')"
   ]
  },
  {
   "cell_type": "markdown",
   "metadata": {},
   "source": [
    "**Comentário**: O modelo de `Logistic Regression` atingiu maior acurácia (0.74) com regularização de 0.01."
   ]
  },
  {
   "cell_type": "markdown",
   "metadata": {},
   "source": [
    "### Treinando `Decision Tree`"
   ]
  },
  {
   "cell_type": "code",
   "execution_count": 11,
   "metadata": {},
   "outputs": [],
   "source": [
    "### preparando variáveis que receberão os resultados\n",
    "best_tree_model = None\n",
    "best_tree_depth = 0\n",
    "best_tree_acc = 0"
   ]
  },
  {
   "cell_type": "code",
   "execution_count": 12,
   "metadata": {},
   "outputs": [
    {
     "name": "stdout",
     "output_type": "stream",
     "text": [
      "Profundidade atualizada: 1, com acurária de: 0.73\n",
      "Profundidade atualizada: 2, com acurária de: 0.78\n",
      "Profundidade atualizada: 3, com acurária de: 0.79\n",
      "Profundidade atualizada: 8, com acurária de: 0.8\n"
     ]
    }
   ],
   "source": [
    "### ajustando modelos de árvores com diferentes hiperparâmetros\n",
    "for depth in range(1,21):\n",
    "    tree_model = DecisionTreeClassifier(max_depth= depth, random_state = 42)\n",
    "    tree_model.fit(features_train, target_train)\n",
    "    prediction_valid = tree_model.predict(features_valid)\n",
    "    tree_acc = accuracy_score(target_valid, prediction_valid)\n",
    "    if tree_acc > best_tree_acc:\n",
    "        best_tree_model = tree_model\n",
    "        best_tree_depth = depth\n",
    "        best_tree_acc = tree_acc\n",
    "        print(f'Profundidade atualizada: {depth}, com acurária de: {round(tree_acc,2)}')"
   ]
  },
  {
   "cell_type": "markdown",
   "metadata": {},
   "source": [
    "**Comentário**: O modelo de `Decision Tree` atingiu maior acurácia (0.80) ao gerar uma árvore com 8 nós de profundidade. "
   ]
  },
  {
   "cell_type": "markdown",
   "metadata": {},
   "source": [
    "### Treinando `Random Forest`"
   ]
  },
  {
   "cell_type": "code",
   "execution_count": 13,
   "metadata": {},
   "outputs": [],
   "source": [
    "### preparando variáveis que receberão os resultados\n",
    "best_forest_model = None\n",
    "best_forest_est = 0\n",
    "best_forest_depth = 0\n",
    "best_forest_acc = 0"
   ]
  },
  {
   "cell_type": "code",
   "execution_count": 14,
   "metadata": {
    "scrolled": true
   },
   "outputs": [
    {
     "name": "stdout",
     "output_type": "stream",
     "text": [
      "Número de árvores atualizado: 1, Profundidade atualizada: 1, com acurária de: 0.76\n",
      "Número de árvores atualizado: 1, Profundidade atualizada: 2, com acurária de: 0.79\n",
      "Número de árvores atualizado: 1, Profundidade atualizada: 4, com acurária de: 0.8\n",
      "Número de árvores atualizado: 1, Profundidade atualizada: 7, com acurária de: 0.8\n",
      "Número de árvores atualizado: 3, Profundidade atualizada: 10, com acurária de: 0.8\n",
      "Número de árvores atualizado: 6, Profundidade atualizada: 6, com acurária de: 0.8\n",
      "Número de árvores atualizado: 7, Profundidade atualizada: 6, com acurária de: 0.81\n",
      "Número de árvores atualizado: 7, Profundidade atualizada: 9, com acurária de: 0.81\n",
      "Número de árvores atualizado: 7, Profundidade atualizada: 12, com acurária de: 0.81\n",
      "Número de árvores atualizado: 22, Profundidade atualizada: 9, com acurária de: 0.82\n",
      "Número de árvores atualizado: 24, Profundidade atualizada: 9, com acurária de: 0.82\n"
     ]
    }
   ],
   "source": [
    "### ajustando modelos de floresta com diferentes hiperparâmetros\n",
    "for est in range(1, 31):\n",
    "    for depth in range(1,21):\n",
    "        forest_model = RandomForestClassifier(n_estimators= est, max_depth= depth, random_state = 42)\n",
    "        forest_model.fit(features_train, target_train)\n",
    "        prediction_valid = forest_model.predict(features_valid)\n",
    "        forest_acc = accuracy_score(target_valid, prediction_valid)\n",
    "        if forest_acc > best_forest_acc:\n",
    "            best_forest_model = forest_model\n",
    "            best_forest_depth = depth\n",
    "            best_forest_acc = forest_acc\n",
    "            print(f'Número de árvores atualizado: {est}, Profundidade atualizada: {depth}, com acurária de: {round(forest_acc,2)}')"
   ]
  },
  {
   "cell_type": "markdown",
   "metadata": {},
   "source": [
    "**Comentário**: o modelo de `Random Forest` atingiu maior acurácia (0.82) ao gerar 24 árvores, cada uma com 9 nós de profundidade. "
   ]
  },
  {
   "cell_type": "markdown",
   "metadata": {},
   "source": [
    "## Testando os modelos"
   ]
  },
  {
   "cell_type": "code",
   "execution_count": 15,
   "metadata": {},
   "outputs": [],
   "source": [
    "### testando modelo Logistic Regression\n",
    "logis_prediction_test = best_logis_model.predict(features_test)\n",
    "logis_acc_test = accuracy_score(target_test, logis_prediction_test)"
   ]
  },
  {
   "cell_type": "code",
   "execution_count": 16,
   "metadata": {},
   "outputs": [],
   "source": [
    "### testando modelo Decision Tree\n",
    "tree_prediction_test = best_tree_model.predict(features_test)\n",
    "tree_acc_test = accuracy_score(target_test, tree_prediction_test)"
   ]
  },
  {
   "cell_type": "code",
   "execution_count": 17,
   "metadata": {},
   "outputs": [],
   "source": [
    "### testando modelo Decision Tree\n",
    "forest_prediction_test = best_forest_model.predict(features_test)\n",
    "forest_acc_test = accuracy_score(target_test, forest_prediction_test)"
   ]
  },
  {
   "cell_type": "code",
   "execution_count": 18,
   "metadata": {
    "scrolled": true
   },
   "outputs": [
    {
     "name": "stdout",
     "output_type": "stream",
     "text": [
      "Acurácia Logistic Regression: 0.768\n",
      "Acurácia Decision Tree: 0.798\n",
      "Acurácia Random Forest: 0.816\n"
     ]
    }
   ],
   "source": [
    "print(f'Acurácia Logistic Regression: {round(logis_acc_test,3)}')\n",
    "print(f'Acurácia Decision Tree: {round(tree_acc_test, 3)}')\n",
    "print(f'Acurácia Random Forest: {round(forest_acc_test,3)}')"
   ]
  },
  {
   "cell_type": "markdown",
   "metadata": {},
   "source": [
    "**Comentário**: O modelo `Random Forest`atingiu a maior acurária durante o teste de modelos, com valor de 0.816. Este foi seguido pelos modelos `Decision Tree` e `Logistic Regression`, respectivamente. "
   ]
  },
  {
   "cell_type": "markdown",
   "metadata": {},
   "source": [
    "## Conclusão"
   ]
  },
  {
   "cell_type": "markdown",
   "metadata": {},
   "source": [
    "Neste projeto eu desenvolvi modelos de aprendizado de máquina para oferecer o melhor plano de celular para os clientes com base no comportamento de uso dos celular dos mesmos. Eu treinei três tipos de modelo: `Logistic Regression`, `Decision Tree` e `Random Forest`. Entre estes, `Random Forest`atingiu a maior acurácia, permitindo atribuir um plano de celular condizente ao comportamento do cliente em cerca de 80% dos casos."
   ]
  }
 ],
 "metadata": {
  "kernelspec": {
   "display_name": "Python 3 (ipykernel)",
   "language": "python",
   "name": "python3"
  },
  "language_info": {
   "codemirror_mode": {
    "name": "ipython",
    "version": 3
   },
   "file_extension": ".py",
   "mimetype": "text/x-python",
   "name": "python",
   "nbconvert_exporter": "python",
   "pygments_lexer": "ipython3",
   "version": "3.9.5"
  },
  "toc": {
   "base_numbering": 1,
   "nav_menu": {},
   "number_sections": true,
   "sideBar": true,
   "skip_h1_title": true,
   "title_cell": "Table of Contents",
   "title_sidebar": "Contents",
   "toc_cell": false,
   "toc_position": {},
   "toc_section_display": true,
   "toc_window_display": false
  }
 },
 "nbformat": 4,
 "nbformat_minor": 2
}
