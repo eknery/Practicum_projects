{
 "cells": [
  {
   "cell_type": "markdown",
   "metadata": {},
   "source": [
    "# Otimizando a extração de ouro"
   ]
  },
  {
   "cell_type": "markdown",
   "metadata": {},
   "source": [
    "Este projeto teve o objetivo de identificar os melhores preditores (características) da concentração de ouro extraída do minério de ouro. Para isso, o projeto desenvolveu um protótipo de modelo de aprendizado de máquina. O modelo utilizou dados cedidos pela Zyfra, empresa que desenvolve soluções de eficiência para a indústria pesada."
   ]
  },
  {
   "cell_type": "markdown",
   "metadata": {},
   "source": [
    "## Importando bibliotecas e dados"
   ]
  },
  {
   "cell_type": "code",
   "execution_count": 1,
   "metadata": {},
   "outputs": [],
   "source": [
    "### importando bibliotecas\n",
    "import pandas as pd\n",
    "import numpy as np\n",
    "from scipy import stats\n",
    "from sklearn.model_selection import train_test_split\n",
    "from sklearn.model_selection import KFold\n",
    "from sklearn.linear_model import LinearRegression\n",
    "from sklearn.metrics import mean_absolute_error\n",
    "from matplotlib import pyplot as plt"
   ]
  },
  {
   "cell_type": "code",
   "execution_count": 2,
   "metadata": {},
   "outputs": [],
   "source": [
    "### importando dados\n",
    "gold_train = pd.read_csv('/datasets/gold_recovery_train.csv')\n",
    "gold_test = pd.read_csv('/datasets/gold_recovery_test.csv')\n",
    "gold_full = pd.read_csv('/datasets/gold_recovery_full.csv')"
   ]
  },
  {
   "cell_type": "markdown",
   "metadata": {},
   "source": [
    "## Processando dados"
   ]
  },
  {
   "cell_type": "code",
   "execution_count": 3,
   "metadata": {},
   "outputs": [],
   "source": [
    "### indexando pela data\n",
    "gold_full = gold_full.set_index(\"date\")\n",
    "gold_test = gold_test.set_index('date')\n",
    "gold_train = gold_train.set_index('date')"
   ]
  },
  {
   "cell_type": "markdown",
   "metadata": {},
   "source": [
    "**Comentário**: Indexei os dados de todos os conjuntos à data de extração;"
   ]
  },
  {
   "cell_type": "markdown",
   "metadata": {},
   "source": [
    "### Verificando dados faltantes"
   ]
  },
  {
   "cell_type": "code",
   "execution_count": 4,
   "metadata": {},
   "outputs": [
    {
     "data": {
      "text/plain": [
       "final.output.concentrate_ag                     72\n",
       "final.output.concentrate_pb                     72\n",
       "final.output.concentrate_sol                   370\n",
       "final.output.concentrate_au                     71\n",
       "final.output.recovery                         1521\n",
       "                                              ... \n",
       "secondary_cleaner.state.floatbank5_a_level      85\n",
       "secondary_cleaner.state.floatbank5_b_air        85\n",
       "secondary_cleaner.state.floatbank5_b_level      84\n",
       "secondary_cleaner.state.floatbank6_a_air       103\n",
       "secondary_cleaner.state.floatbank6_a_level      85\n",
       "Length: 86, dtype: int64"
      ]
     },
     "execution_count": 4,
     "metadata": {},
     "output_type": "execute_result"
    }
   ],
   "source": [
    "gold_train.isna().sum()"
   ]
  },
  {
   "cell_type": "code",
   "execution_count": 5,
   "metadata": {
    "scrolled": true
   },
   "outputs": [
    {
     "data": {
      "text/plain": [
       "primary_cleaner.input.sulfate                 302\n",
       "primary_cleaner.input.depressant              284\n",
       "primary_cleaner.input.feed_size                 0\n",
       "primary_cleaner.input.xanthate                166\n",
       "primary_cleaner.state.floatbank8_a_air         16\n",
       "primary_cleaner.state.floatbank8_a_level       16\n",
       "primary_cleaner.state.floatbank8_b_air         16\n",
       "primary_cleaner.state.floatbank8_b_level       16\n",
       "primary_cleaner.state.floatbank8_c_air         16\n",
       "primary_cleaner.state.floatbank8_c_level       16\n",
       "primary_cleaner.state.floatbank8_d_air         16\n",
       "primary_cleaner.state.floatbank8_d_level       16\n",
       "rougher.input.feed_ag                          16\n",
       "rougher.input.feed_pb                          16\n",
       "rougher.input.feed_rate                        40\n",
       "rougher.input.feed_size                        22\n",
       "rougher.input.feed_sol                         67\n",
       "rougher.input.feed_au                          16\n",
       "rougher.input.floatbank10_sulfate             257\n",
       "rougher.input.floatbank10_xanthate            123\n",
       "rougher.input.floatbank11_sulfate              55\n",
       "rougher.input.floatbank11_xanthate            353\n",
       "rougher.state.floatbank10_a_air                17\n",
       "rougher.state.floatbank10_a_level              16\n",
       "rougher.state.floatbank10_b_air                17\n",
       "rougher.state.floatbank10_b_level              16\n",
       "rougher.state.floatbank10_c_air                17\n",
       "rougher.state.floatbank10_c_level              16\n",
       "rougher.state.floatbank10_d_air                17\n",
       "rougher.state.floatbank10_d_level              16\n",
       "rougher.state.floatbank10_e_air                17\n",
       "rougher.state.floatbank10_e_level              16\n",
       "rougher.state.floatbank10_f_air                17\n",
       "rougher.state.floatbank10_f_level              16\n",
       "secondary_cleaner.state.floatbank2_a_air       20\n",
       "secondary_cleaner.state.floatbank2_a_level     16\n",
       "secondary_cleaner.state.floatbank2_b_air       23\n",
       "secondary_cleaner.state.floatbank2_b_level     16\n",
       "secondary_cleaner.state.floatbank3_a_air       34\n",
       "secondary_cleaner.state.floatbank3_a_level     16\n",
       "secondary_cleaner.state.floatbank3_b_air       16\n",
       "secondary_cleaner.state.floatbank3_b_level     16\n",
       "secondary_cleaner.state.floatbank4_a_air       16\n",
       "secondary_cleaner.state.floatbank4_a_level     16\n",
       "secondary_cleaner.state.floatbank4_b_air       16\n",
       "secondary_cleaner.state.floatbank4_b_level     16\n",
       "secondary_cleaner.state.floatbank5_a_air       16\n",
       "secondary_cleaner.state.floatbank5_a_level     16\n",
       "secondary_cleaner.state.floatbank5_b_air       16\n",
       "secondary_cleaner.state.floatbank5_b_level     16\n",
       "secondary_cleaner.state.floatbank6_a_air       16\n",
       "secondary_cleaner.state.floatbank6_a_level     16\n",
       "dtype: int64"
      ]
     },
     "execution_count": 5,
     "metadata": {},
     "output_type": "execute_result"
    }
   ],
   "source": [
    "gold_test.isna().sum()"
   ]
  },
  {
   "cell_type": "code",
   "execution_count": 6,
   "metadata": {},
   "outputs": [
    {
     "data": {
      "text/plain": [
       "final.output.concentrate_ag                     89\n",
       "final.output.concentrate_pb                     87\n",
       "final.output.concentrate_sol                   385\n",
       "final.output.concentrate_au                     86\n",
       "final.output.recovery                         1963\n",
       "                                              ... \n",
       "secondary_cleaner.state.floatbank5_a_level     101\n",
       "secondary_cleaner.state.floatbank5_b_air       101\n",
       "secondary_cleaner.state.floatbank5_b_level     100\n",
       "secondary_cleaner.state.floatbank6_a_air       119\n",
       "secondary_cleaner.state.floatbank6_a_level     101\n",
       "Length: 86, dtype: int64"
      ]
     },
     "execution_count": 6,
     "metadata": {},
     "output_type": "execute_result"
    }
   ],
   "source": [
    "gold_full.isna().sum()"
   ]
  },
  {
   "cell_type": "markdown",
   "metadata": {},
   "source": [
    "**Comentário**: Existem dados faltantes em todos os conjuntos de dados. "
   ]
  },
  {
   "cell_type": "code",
   "execution_count": 7,
   "metadata": {},
   "outputs": [
    {
     "name": "stdout",
     "output_type": "stream",
     "text": [
      "Número de variáveis que faltam no conjunto de treino: 0\n"
     ]
    }
   ],
   "source": [
    "var_lack_train = gold_full.columns.difference(gold_train.columns).tolist()\n",
    "print(f\"Número de variáveis que faltam no conjunto de treino:\", len(var_lack_train) )"
   ]
  },
  {
   "cell_type": "code",
   "execution_count": 8,
   "metadata": {},
   "outputs": [
    {
     "name": "stdout",
     "output_type": "stream",
     "text": [
      "Número de variáveis que faltam no conjunto de teste: 34\n"
     ]
    }
   ],
   "source": [
    "var_lack_test = gold_full.columns.difference(gold_test.columns).tolist()\n",
    "print(f\"Número de variáveis que faltam no conjunto de teste:\", len(var_lack_test) )"
   ]
  },
  {
   "cell_type": "code",
   "execution_count": 9,
   "metadata": {},
   "outputs": [
    {
     "data": {
      "text/plain": [
       "['final.output.concentrate_ag',\n",
       " 'final.output.concentrate_au',\n",
       " 'final.output.concentrate_pb',\n",
       " 'final.output.concentrate_sol',\n",
       " 'final.output.recovery',\n",
       " 'final.output.tail_ag',\n",
       " 'final.output.tail_au',\n",
       " 'final.output.tail_pb',\n",
       " 'final.output.tail_sol',\n",
       " 'primary_cleaner.output.concentrate_ag',\n",
       " 'primary_cleaner.output.concentrate_au',\n",
       " 'primary_cleaner.output.concentrate_pb',\n",
       " 'primary_cleaner.output.concentrate_sol',\n",
       " 'primary_cleaner.output.tail_ag',\n",
       " 'primary_cleaner.output.tail_au',\n",
       " 'primary_cleaner.output.tail_pb',\n",
       " 'primary_cleaner.output.tail_sol',\n",
       " 'rougher.calculation.au_pb_ratio',\n",
       " 'rougher.calculation.floatbank10_sulfate_to_au_feed',\n",
       " 'rougher.calculation.floatbank11_sulfate_to_au_feed',\n",
       " 'rougher.calculation.sulfate_to_au_concentrate',\n",
       " 'rougher.output.concentrate_ag',\n",
       " 'rougher.output.concentrate_au',\n",
       " 'rougher.output.concentrate_pb',\n",
       " 'rougher.output.concentrate_sol',\n",
       " 'rougher.output.recovery',\n",
       " 'rougher.output.tail_ag',\n",
       " 'rougher.output.tail_au',\n",
       " 'rougher.output.tail_pb',\n",
       " 'rougher.output.tail_sol',\n",
       " 'secondary_cleaner.output.tail_ag',\n",
       " 'secondary_cleaner.output.tail_au',\n",
       " 'secondary_cleaner.output.tail_pb',\n",
       " 'secondary_cleaner.output.tail_sol']"
      ]
     },
     "execution_count": 9,
     "metadata": {},
     "output_type": "execute_result"
    }
   ],
   "source": [
    "gold_full.columns.difference(gold_test.columns).tolist()"
   ]
  },
  {
   "cell_type": "markdown",
   "metadata": {},
   "source": [
    "**Comentário**: O conjunto de treino não possuem algumas variáveis presentes no conjunto completo. Essas variáveis abrangem todas as etapas do processo de extração do ouro."
   ]
  },
  {
   "cell_type": "markdown",
   "metadata": {},
   "source": [
    "### Tratando dados faltantes"
   ]
  },
  {
   "cell_type": "code",
   "execution_count": 10,
   "metadata": {},
   "outputs": [],
   "source": [
    "def replace_na(df_tar, df_ref):\n",
    "    ## todas as variáveis (características)\n",
    "    all_vars = df_tar.columns\n",
    "    ## iterando sobre variáveis\n",
    "    for var in all_vars:\n",
    "        median_value = np.nanmedian(df_ref[var]) # calcular mediana\n",
    "        df_tar[var].fillna(value= median_value, inplace=True) # inserir mediana no dado faltante\n",
    "    return(df_tar)"
   ]
  },
  {
   "cell_type": "markdown",
   "metadata": {},
   "source": [
    "**Comentário**: Defini uma função que preenche os dados faltantes de uma variável com base no valor mediano desta variável em um dataframe de referência."
   ]
  },
  {
   "cell_type": "code",
   "execution_count": 11,
   "metadata": {},
   "outputs": [
    {
     "name": "stdout",
     "output_type": "stream",
     "text": [
      "Dados faltantes no conjunto completo: 0\n"
     ]
    }
   ],
   "source": [
    "### taratando dados faltantes no conjunto completo\n",
    "gold_full = replace_na(df_tar= gold_full, df_ref = gold_full)\n",
    "### checando tratamento\n",
    "print(f\"Dados faltantes no conjunto completo:\", sum(gold_full.isna().sum()) )"
   ]
  },
  {
   "cell_type": "code",
   "execution_count": 12,
   "metadata": {},
   "outputs": [
    {
     "name": "stdout",
     "output_type": "stream",
     "text": [
      "Dados faltantes no conjunto de treino: 0\n"
     ]
    }
   ],
   "source": [
    "### taratando dados faltantes no conjunto de treino\n",
    "gold_train = replace_na(df_tar= gold_train, df_ref = gold_full)\n",
    "### checando tratamento\n",
    "print(f\"Dados faltantes no conjunto de treino:\", sum(gold_train.isna().sum()) )"
   ]
  },
  {
   "cell_type": "code",
   "execution_count": 13,
   "metadata": {},
   "outputs": [
    {
     "name": "stdout",
     "output_type": "stream",
     "text": [
      "Dados faltantes no conjunto de teste: 0\n"
     ]
    }
   ],
   "source": [
    "### taratando dados faltantes no conjunto de teste\n",
    "gold_test = replace_na(df_tar= gold_test, df_ref = gold_full)\n",
    "### checando tratamento\n",
    "print(f\"Dados faltantes no conjunto de teste:\", sum(gold_test.isna().sum()) )"
   ]
  },
  {
   "cell_type": "code",
   "execution_count": 14,
   "metadata": {},
   "outputs": [],
   "source": [
    "### adicionando variáveis que faltam no conjunto de teste\n",
    "gold_test = gold_test.join(other=gold_full[var_lack_test], how='left')"
   ]
  },
  {
   "cell_type": "markdown",
   "metadata": {},
   "source": [
    "**Comentário**: No tratamento dos dados faltantes eu:\n",
    "- Subtitui os dados faltantes em cada variável pela respectiva mediana da variável:\n",
    " - Primeiro, no conjunto completo, utilizei a mediana calculada no próprio conjunto completo;\n",
    " - Depois, nos demais conjuntos, utilizei a mediana calculada no conjunto completo;\n",
    "- Adicionei as variábeis faltantes no conjunto de teste a partir do conjunto completo;"
   ]
  },
  {
   "cell_type": "markdown",
   "metadata": {},
   "source": [
    "## Análise exploratória dos dados"
   ]
  },
  {
   "cell_type": "markdown",
   "metadata": {},
   "source": [
    "### Distribuição do produto da flotação"
   ]
  },
  {
   "cell_type": "code",
   "execution_count": 15,
   "metadata": {
    "scrolled": true
   },
   "outputs": [
    {
     "data": {
      "text/plain": [
       "<AxesSubplot:>"
      ]
     },
     "execution_count": 15,
     "metadata": {},
     "output_type": "execute_result"
    },
    {
     "data": {
      "image/png": "[encoded data removed]",
      "text/plain": [
       "<Figure size 432x288 with 1 Axes>"
      ]
     },
     "metadata": {
      "needs_background": "light"
     },
     "output_type": "display_data"
    }
   ],
   "source": [
    "### visualizando distribuição\n",
    "gold_train[\"rougher.output.recovery\"].hist()"
   ]
  },
  {
   "cell_type": "code",
   "execution_count": 16,
   "metadata": {
    "scrolled": false
   },
   "outputs": [
    {
     "data": {
      "text/plain": [
       "count    16860.000000\n",
       "mean        82.966475\n",
       "std         13.962389\n",
       "min          0.000000\n",
       "25%         80.922825\n",
       "50%         86.144121\n",
       "75%         89.343361\n",
       "max        100.000000\n",
       "Name: rougher.output.recovery, dtype: float64"
      ]
     },
     "execution_count": 16,
     "metadata": {},
     "output_type": "execute_result"
    }
   ],
   "source": [
    "gold_train[\"rougher.output.recovery\"].describe()"
   ]
  },
  {
   "cell_type": "markdown",
   "metadata": {},
   "source": [
    "**Comentário**: A variável de produtos da flotação (`rougher.output.recovery`) possui uma distribuição assimétrica à esquerda, ou seja, valores pequenos são mais raros."
   ]
  },
  {
   "cell_type": "markdown",
   "metadata": {},
   "source": [
    "### Relação do produto de flotação com outras variáveis"
   ]
  },
  {
   "cell_type": "code",
   "execution_count": 17,
   "metadata": {},
   "outputs": [],
   "source": [
    "def fast_lm_evaluation(df, target_name):\n",
    "    ## vetores de resultado\n",
    "    all_mean_predict = []\n",
    "    all_mae = []\n",
    "    ## separando objetivos e características\n",
    "    target = df[target_name]\n",
    "    features = df.drop(target_name,  axis = 1)\n",
    "    ## dividindo em treino e validação\n",
    "    target_train, target_valid, features_train, features_valid = train_test_split(target, features, train_size = 0.75, random_state = 42)\n",
    "    ## todas as possíveis características\n",
    "    all_feature_names = features.columns.tolist()\n",
    "    ## iterando sobre características\n",
    "    for feature_name in all_feature_names:\n",
    "        ## selecionando apenas uma característica\n",
    "        one_feature_train = pd.DataFrame(features_train[feature_name])\n",
    "        one_feature_valid = pd.DataFrame(features_valid[feature_name])\n",
    "        ## ajustando modelo\n",
    "        lm = LinearRegression().fit(one_feature_train, target_train)\n",
    "        ## predizendo\n",
    "        prediction = lm.predict(one_feature_valid)\n",
    "        mean_predict = np.mean(prediction)\n",
    "        all_mean_predict.append(mean_predict)\n",
    "        ## avaliando predição \n",
    "        mae = mean_absolute_error(target_valid, prediction)\n",
    "        all_mae.append(mae)\n",
    "    ## organizando resutlados\n",
    "    eval_df = pd.DataFrame({\"feature\": all_feature_names, \"predicted_target_mean\":all_mean_predict, \"mae\": all_mae })\n",
    "    ## exportando resultados\n",
    "    return eval_df"
   ]
  },
  {
   "cell_type": "markdown",
   "metadata": {},
   "source": [
    "**Comentário**: Defini uma função para verificar o poder de predição de diferentes características sobre um dado objetivo com base em regressão linear. Para isso, a função:\n",
    "- Separa o objetivo das características;\n",
    "- Dividi o objetivo e as características em treino (75%) e validação (25%)\n",
    "- Itera sobre cada característica:\n",
    " - Separa a característica de treino e validação;\n",
    " - Ajusta o modelo linear com o objetivo e característica de treino;\n",
    " - Prediz os valores com base na característica de validação;\n",
    " - Calcula a média dos valores preditos;\n",
    " - Calcula o erro médio absoluto (EAM) entre os valores preditos e o objetivo de validação;"
   ]
  },
  {
   "cell_type": "code",
   "execution_count": 18,
   "metadata": {},
   "outputs": [],
   "source": [
    "### aplicando função de avaliação sobre a produto de flotação\n",
    "eval_1 = fast_lm_evaluation(df= gold_train, target_name=\"rougher.output.recovery\")"
   ]
  },
  {
   "cell_type": "code",
   "execution_count": 19,
   "metadata": {
    "scrolled": true
   },
   "outputs": [
    {
     "data": {
      "text/html": [
       "<div>\n",
       "<style scoped>\n",
       "    .dataframe tbody tr th:only-of-type {\n",
       "        vertical-align: middle;\n",
       "    }\n",
       "\n",
       "    .dataframe tbody tr th {\n",
       "        vertical-align: top;\n",
       "    }\n",
       "\n",
       "    .dataframe thead th {\n",
       "        text-align: right;\n",
       "    }\n",
       "</style>\n",
       "<table border=\"1\" class=\"dataframe\">\n",
       "  <thead>\n",
       "    <tr style=\"text-align: right;\">\n",
       "      <th></th>\n",
       "      <th>feature</th>\n",
       "      <th>predicted_target_mean</th>\n",
       "      <th>mae</th>\n",
       "    </tr>\n",
       "  </thead>\n",
       "  <tbody>\n",
       "    <tr>\n",
       "      <th>50</th>\n",
       "      <td>rougher.output.tail_au</td>\n",
       "      <td>82.961406</td>\n",
       "      <td>6.177021</td>\n",
       "    </tr>\n",
       "    <tr>\n",
       "      <th>4</th>\n",
       "      <td>final.output.recovery</td>\n",
       "      <td>83.037171</td>\n",
       "      <td>6.930795</td>\n",
       "    </tr>\n",
       "    <tr>\n",
       "      <th>48</th>\n",
       "      <td>rougher.output.tail_pb</td>\n",
       "      <td>83.063541</td>\n",
       "      <td>6.990238</td>\n",
       "    </tr>\n",
       "    <tr>\n",
       "      <th>9</th>\n",
       "      <td>primary_cleaner.input.sulfate</td>\n",
       "      <td>83.072925</td>\n",
       "      <td>7.167408</td>\n",
       "    </tr>\n",
       "    <tr>\n",
       "      <th>47</th>\n",
       "      <td>rougher.output.tail_ag</td>\n",
       "      <td>82.983909</td>\n",
       "      <td>7.217244</td>\n",
       "    </tr>\n",
       "    <tr>\n",
       "      <th>...</th>\n",
       "      <td>...</td>\n",
       "      <td>...</td>\n",
       "      <td>...</td>\n",
       "    </tr>\n",
       "    <tr>\n",
       "      <th>40</th>\n",
       "      <td>rougher.input.floatbank10_xanthate</td>\n",
       "      <td>83.042527</td>\n",
       "      <td>7.696997</td>\n",
       "    </tr>\n",
       "    <tr>\n",
       "      <th>43</th>\n",
       "      <td>rougher.output.concentrate_ag</td>\n",
       "      <td>83.086269</td>\n",
       "      <td>7.785061</td>\n",
       "    </tr>\n",
       "    <tr>\n",
       "      <th>44</th>\n",
       "      <td>rougher.output.concentrate_pb</td>\n",
       "      <td>83.045480</td>\n",
       "      <td>8.069754</td>\n",
       "    </tr>\n",
       "    <tr>\n",
       "      <th>45</th>\n",
       "      <td>rougher.output.concentrate_sol</td>\n",
       "      <td>83.090950</td>\n",
       "      <td>8.082958</td>\n",
       "    </tr>\n",
       "    <tr>\n",
       "      <th>46</th>\n",
       "      <td>rougher.output.concentrate_au</td>\n",
       "      <td>83.099635</td>\n",
       "      <td>8.201449</td>\n",
       "    </tr>\n",
       "  </tbody>\n",
       "</table>\n",
       "<p>85 rows × 3 columns</p>\n",
       "</div>"
      ],
      "text/plain": [
       "                               feature  predicted_target_mean       mae\n",
       "50              rougher.output.tail_au              82.961406  6.177021\n",
       "4                final.output.recovery              83.037171  6.930795\n",
       "48              rougher.output.tail_pb              83.063541  6.990238\n",
       "9        primary_cleaner.input.sulfate              83.072925  7.167408\n",
       "47              rougher.output.tail_ag              82.983909  7.217244\n",
       "..                                 ...                    ...       ...\n",
       "40  rougher.input.floatbank10_xanthate              83.042527  7.696997\n",
       "43       rougher.output.concentrate_ag              83.086269  7.785061\n",
       "44       rougher.output.concentrate_pb              83.045480  8.069754\n",
       "45      rougher.output.concentrate_sol              83.090950  8.082958\n",
       "46       rougher.output.concentrate_au              83.099635  8.201449\n",
       "\n",
       "[85 rows x 3 columns]"
      ]
     },
     "execution_count": 19,
     "metadata": {},
     "output_type": "execute_result"
    }
   ],
   "source": [
    "### visualziando em ordem de ajuste\n",
    "eval_1.sort_values(by=\"mae\", ascending=True)"
   ]
  },
  {
   "cell_type": "markdown",
   "metadata": {},
   "source": [
    "**Comentário**: Todas as características predizem uma média similar para o produto da flotação. Contudo, algumas características fazem a predição com menor error."
   ]
  },
  {
   "cell_type": "markdown",
   "metadata": {},
   "source": [
    "### Concentração dos metais ao longo das etapas de mineração"
   ]
  },
  {
   "cell_type": "code",
   "execution_count": 20,
   "metadata": {},
   "outputs": [],
   "source": [
    "### definindo função para separar as variáveis relativas a um determinado metal\n",
    "def get_metal_vars(df, metal_name):\n",
    "    metal_var_names =[]\n",
    "    all_var_names = df.columns.tolist()\n",
    "    for one_var_name in all_var_names:\n",
    "        if (metal_name in one_var_name) and (\"calculation\" not in one_var_name):\n",
    "            metal_var_names.append(one_var_name)\n",
    "    return(metal_var_names)"
   ]
  },
  {
   "cell_type": "code",
   "execution_count": 21,
   "metadata": {},
   "outputs": [],
   "source": [
    "### definindo função para ordenar variáveis segundo processo de mineração\n",
    "def order_metal_vars(metal_var_names):\n",
    "    ordered_var_names = [\"NA\"] * 4\n",
    "    for one_var_name in metal_var_names:\n",
    "        if \"rougher.input.feed\" in one_var_name:\n",
    "            ordered_var_names[0] = one_var_name\n",
    "        elif \"rougher.output.concentrate\" in one_var_name:\n",
    "            ordered_var_names[1] = one_var_name\n",
    "        elif \"primary_cleaner.output.concentrate\" in one_var_name:\n",
    "            ordered_var_names[2] = one_var_name\n",
    "        elif \"final.output.concentrate\" in one_var_name:\n",
    "            ordered_var_names[3] = one_var_name\n",
    "    return(ordered_var_names)"
   ]
  },
  {
   "cell_type": "code",
   "execution_count": 22,
   "metadata": {},
   "outputs": [],
   "source": [
    "### definindo função para avaliar visualmente a concentração do metal \n",
    "def fast_boxplot(df, select_vars):\n",
    "    vec0 = df[select_vars].iloc[:,0]\n",
    "    vec1 = df[select_vars].iloc[:,1]\n",
    "    vec2 = df[select_vars].iloc[:,2]\n",
    "    vec3 = df[select_vars].iloc[:,3]\n",
    "    plt.boxplot([vec0, vec1, vec2, vec3])\n",
    "    plt.xticks([1, 2, 3, 4], ['rougher_input', 'rougher_output', \"primary_output\", \"final_output\"])\n",
    "    plt.show()"
   ]
  },
  {
   "cell_type": "markdown",
   "metadata": {},
   "source": [
    "**Comentário**: Defini três funções:\n",
    "- A primeira separa as variáveis que descrevem a concentraçaõ de um metal antes e depois das etapas de mineração;\n",
    "- A segunda ordena as variáveis de modo a refletir as etapas do processo de mineração;\n",
    "- A terceira mostra por boxplot a concentração do metal ao longo de cada etapa da mineração;"
   ]
  },
  {
   "cell_type": "code",
   "execution_count": 23,
   "metadata": {},
   "outputs": [
    {
     "data": {
      "image/png": "[encoded data removed]",
      "text/plain": [
       "<Figure size 432x288 with 1 Axes>"
      ]
     },
     "metadata": {
      "needs_background": "light"
     },
     "output_type": "display_data"
    }
   ],
   "source": [
    "### descrevendo a concentração de ouro (Au)\n",
    "au_vars = get_metal_vars(df=gold_train, metal_name=\"au\")\n",
    "order_au_vars = order_metal_vars(au_vars)\n",
    "fast_boxplot(df=gold_train, select_vars=order_au_vars)"
   ]
  },
  {
   "cell_type": "code",
   "execution_count": 24,
   "metadata": {},
   "outputs": [
    {
     "data": {
      "image/png": "[encoded data removed]",
      "text/plain": [
       "<Figure size 432x288 with 1 Axes>"
      ]
     },
     "metadata": {
      "needs_background": "light"
     },
     "output_type": "display_data"
    }
   ],
   "source": [
    "### descrevendo a concentração de prata (Ag)\n",
    "ag_vars = get_metal_vars(df=gold_train, metal_name=\"ag\")\n",
    "order_ag_vars = order_metal_vars(ag_vars)\n",
    "fast_boxplot(df=gold_train, select_vars=order_ag_vars)"
   ]
  },
  {
   "cell_type": "code",
   "execution_count": 25,
   "metadata": {
    "scrolled": false
   },
   "outputs": [
    {
     "data": {
      "image/png": "[encoded data removed]",
      "text/plain": [
       "<Figure size 432x288 with 1 Axes>"
      ]
     },
     "metadata": {
      "needs_background": "light"
     },
     "output_type": "display_data"
    }
   ],
   "source": [
    "### descrevendo a concentração de chumbo (Pb)\n",
    "pb_vars = get_metal_vars(df=gold_train, metal_name=\"pb\")\n",
    "order_pb_vars = order_metal_vars(pb_vars)\n",
    "fast_boxplot(df=gold_train, select_vars=order_pb_vars)"
   ]
  },
  {
   "cell_type": "markdown",
   "metadata": {},
   "source": [
    "**Comentário**: A concentração de ouro (Au) aumenta a cada etapa da mineração, assim como a de chumbo (Pb). Não há padrão para a concentraçaõ de prata (Ag). Assim, a concentração de chumbo é um possível indicador da concentração de ouro que é conseguida ao fim do processo de mineração."
   ]
  },
  {
   "cell_type": "markdown",
   "metadata": {},
   "source": [
    "### Tamanho das partículas de minério"
   ]
  },
  {
   "cell_type": "markdown",
   "metadata": {},
   "source": [
    "O tamanho das partículas de minério é uma proxy para a quantidade de material que foi minerado no conjunto de dados. Essa quantidade deve ser similar no conjunto de treino e teste, indicando que ambos conjuntos representam um cenário similar de mineração.\n",
    "\n",
    "Com base nisso, testatei se o tamanho das partículas de minério diferem entre o conjunto de treino e teste, considerando duas hipóteses:\n",
    "\n",
    "- H0) O tamanho médio das partículas de minério não difere entre os conjuntos de treino e teste;\n",
    "- H1) O tamanho médio das partículas de minério difere entre os conjuntos de treino e teste;"
   ]
  },
  {
   "cell_type": "code",
   "execution_count": 26,
   "metadata": {},
   "outputs": [],
   "source": [
    "### separando valroes de tamanho no conjunto de treino e teste\n",
    "size_train = gold_train[\"rougher.input.feed_size\"]\n",
    "size_test = gold_test[\"rougher.input.feed_size\"]"
   ]
  },
  {
   "cell_type": "code",
   "execution_count": 27,
   "metadata": {},
   "outputs": [],
   "source": [
    "### limiar de significância\n",
    "alpha = 0.05"
   ]
  },
  {
   "cell_type": "code",
   "execution_count": 28,
   "metadata": {},
   "outputs": [
    {
     "name": "stdout",
     "output_type": "stream",
     "text": [
      "O tamanho das partículas de minério difere entre o conjunto de treino e teste\n"
     ]
    }
   ],
   "source": [
    "### KS teste para verificar a igualdade de duas distribuições\n",
    "kstest = stats.kstest(size_train , size_test)\n",
    "pvalue = kstest.pvalue\n",
    "if pvalue > alpha:\n",
    "    print(\"O tamanho das partículas de minério é igual entre o conjunto de treino e teste\")\n",
    "elif pvalue < alpha:\n",
    "    print(\"O tamanho das partículas de minério difere entre o conjunto de treino e teste\")"
   ]
  },
  {
   "cell_type": "code",
   "execution_count": 29,
   "metadata": {},
   "outputs": [
    {
     "data": {
      "image/png": "[encoded data removed]",
      "text/plain": [
       "<Figure size 432x288 with 1 Axes>"
      ]
     },
     "metadata": {
      "needs_background": "light"
     },
     "output_type": "display_data"
    }
   ],
   "source": [
    "### comparando distribuição entre treino e teste\n",
    "plt.boxplot([size_train, size_test ])\n",
    "plt.xticks([1, 2,], ['train', 'test'])\n",
    "plt.show()"
   ]
  },
  {
   "cell_type": "markdown",
   "metadata": {},
   "source": [
    "**Comentário**: A distribuição de valores para o tamanho do minério difere entre os conjuntos de treino e teste. Assim, os valores encontrados em um conjunto podem estar ausentes no outro conjunto, diminuindo o poder de predição de modelos de aprendizado de máquina. Isto requer um tratamento da distribuição dos dados."
   ]
  },
  {
   "cell_type": "markdown",
   "metadata": {},
   "source": [
    "### Distribuição dos valores de concentração de ouro"
   ]
  },
  {
   "cell_type": "code",
   "execution_count": 30,
   "metadata": {
    "scrolled": true
   },
   "outputs": [
    {
     "data": {
      "text/plain": [
       "<AxesSubplot:>"
      ]
     },
     "execution_count": 30,
     "metadata": {},
     "output_type": "execute_result"
    },
    {
     "data": {
      "image/png": "[encoded data removed]",
      "text/plain": [
       "<Figure size 432x288 with 1 Axes>"
      ]
     },
     "metadata": {
      "needs_background": "light"
     },
     "output_type": "display_data"
    }
   ],
   "source": [
    "gold_train[order_au_vars[0]].hist()\n",
    "gold_train[order_au_vars[1]].hist()\n",
    "gold_train[order_au_vars[2]].hist()\n",
    "gold_train[order_au_vars[3]].hist()"
   ]
  },
  {
   "cell_type": "code",
   "execution_count": 31,
   "metadata": {},
   "outputs": [
    {
     "data": {
      "text/plain": [
       "<AxesSubplot:>"
      ]
     },
     "execution_count": 31,
     "metadata": {},
     "output_type": "execute_result"
    },
    {
     "data": {
      "image/png": "[encoded data removed]",
      "text/plain": [
       "<Figure size 432x288 with 1 Axes>"
      ]
     },
     "metadata": {
      "needs_background": "light"
     },
     "output_type": "display_data"
    }
   ],
   "source": [
    "gold_test[order_au_vars[0]].hist()\n",
    "gold_test[order_au_vars[1]].hist()\n",
    "gold_test[order_au_vars[2]].hist()\n",
    "gold_test[order_au_vars[3]].hist()"
   ]
  },
  {
   "cell_type": "markdown",
   "metadata": {},
   "source": [
    "**Comentário**: A concentração de ouro mostra uma distribuição bimodal em todas as etapas de extração, sendo uma moda sempre perto de zero. Isto indica que um número considerável de amostras de minério resulta em baixas concentrações de ouro, independente da etapa. Estes valores devem refletir um erro inerente do processo de mineração que gera amostras de baixa concentração. \n",
    "\n",
    "Vou retirar esses valores dos dados, pois eles não refletem concentrações de ouro que de alguma forma estão atreladas a qualidade do minério ou do processo de mineraçaõ."
   ]
  },
  {
   "cell_type": "code",
   "execution_count": 32,
   "metadata": {},
   "outputs": [],
   "source": [
    "### definindo função para remoçaõ de valores extremos\n",
    "def remove_outlier(df_tar, df_ref, var):\n",
    "    q1 = df_ref[var].quantile(0.25)\n",
    "    q3 = df_ref[var].quantile(0.75)\n",
    "    iqr = q3 - q1\n",
    "    lim_min = q1 - (1.5* iqr)\n",
    "    lim_max = q3 + (1.5* iqr)\n",
    "    df_clean = df_tar[(df_tar[var] > lim_min) & (df_tar[var] < lim_max)]\n",
    "    return(df_clean)"
   ]
  },
  {
   "cell_type": "code",
   "execution_count": 33,
   "metadata": {},
   "outputs": [],
   "source": [
    "### aplicando função ao conjunto de treino\n",
    "cgold_train = gold_train\n",
    "for one_au_var in order_au_vars:\n",
    "    cgold_train = remove_outlier(df_tar= cgold_train, df_ref = gold_full, var = one_au_var)"
   ]
  },
  {
   "cell_type": "code",
   "execution_count": 34,
   "metadata": {},
   "outputs": [],
   "source": [
    "### aplicando função ao conjunto de teste\n",
    "cgold_test = gold_test\n",
    "for one_au_var in order_au_vars:\n",
    "    cgold_test = remove_outlier(df_tar= cgold_test, df_ref = gold_full, var = one_au_var)"
   ]
  },
  {
   "cell_type": "code",
   "execution_count": 35,
   "metadata": {},
   "outputs": [
    {
     "data": {
      "text/plain": [
       "<AxesSubplot:>"
      ]
     },
     "execution_count": 35,
     "metadata": {},
     "output_type": "execute_result"
    },
    {
     "data": {
      "image/png": "[encoded data removed]",
      "text/plain": [
       "<Figure size 432x288 with 1 Axes>"
      ]
     },
     "metadata": {
      "needs_background": "light"
     },
     "output_type": "display_data"
    }
   ],
   "source": [
    "### verificando distribuição\n",
    "cgold_train[order_au_vars[0]].hist()\n",
    "cgold_train[order_au_vars[1]].hist()\n",
    "cgold_train[order_au_vars[2]].hist()\n",
    "cgold_train[order_au_vars[3]].hist()"
   ]
  },
  {
   "cell_type": "code",
   "execution_count": 36,
   "metadata": {
    "scrolled": true
   },
   "outputs": [
    {
     "data": {
      "text/plain": [
       "<AxesSubplot:>"
      ]
     },
     "execution_count": 36,
     "metadata": {},
     "output_type": "execute_result"
    },
    {
     "data": {
      "image/png": "[encoded data removed]",
      "text/plain": [
       "<Figure size 432x288 with 1 Axes>"
      ]
     },
     "metadata": {
      "needs_background": "light"
     },
     "output_type": "display_data"
    }
   ],
   "source": [
    "### verificando distribuição\n",
    "cgold_test[order_au_vars[0]].hist()\n",
    "cgold_test[order_au_vars[1]].hist()\n",
    "cgold_test[order_au_vars[2]].hist()\n",
    "cgold_test[order_au_vars[3]].hist()"
   ]
  },
  {
   "cell_type": "markdown",
   "metadata": {},
   "source": [
    "**Comentário**: Eu removi observações que continham valores extremos pequenos ao longo de todas as variáveis de concentração de ouro (etapas da mineração). Eu extrai as observações com base nos limites inferior e superior (1.5 x quartile 1 e quartile 3, respectivamente) calculados sobre o conjunto completo de dados. Após a remoção, os dados de treino e teste mostraram uma distribuição unimodal aproximadamente simétricas em todas as variáveis de concentração de ouro."
   ]
  },
  {
   "cell_type": "markdown",
   "metadata": {},
   "source": [
    "## Predizendo a extração de ouro"
   ]
  },
  {
   "cell_type": "markdown",
   "metadata": {},
   "source": [
    "### Cálculo do sMAPE"
   ]
  },
  {
   "cell_type": "code",
   "execution_count": 37,
   "metadata": {},
   "outputs": [],
   "source": [
    "def smape_calculation(df, target_var, n_splits):\n",
    "    ## separando objetivos e características no treino\n",
    "    target = df[target_var]\n",
    "    features = df.drop(target_var,  axis = 1)\n",
    "    ## vetor com resultados\n",
    "    best_smape = float('inf')\n",
    "    ## dividindo em K amostras\n",
    "    x = range(0, len(target))\n",
    "    kf = KFold(n_splits = n_splits)\n",
    "    for train_index, valid_index in kf.split(x):\n",
    "    ## dividindo em treino e validação \n",
    "        target_train = target.iloc[train_index]\n",
    "        target_valid = target.iloc[valid_index]\n",
    "        features_train = features.iloc[train_index]\n",
    "        features_valid = features.iloc[valid_index]\n",
    "        ## ajustando modelo\n",
    "        lm = LinearRegression().fit(features_train, target_train)\n",
    "        ## predizendo\n",
    "        prediction = pd.Series(lm.predict(features_valid))\n",
    "        ## cálculo do sMAPE\n",
    "        # diferença entre obsevado e predição\n",
    "        diff = [ abs( a - b) for a, b in zip(target_valid, prediction) ] \n",
    "        # média simétrica\n",
    "        sym_mean = [ (abs(a) + abs(b))/2 for a, b in zip(target_valid, prediction) ] \n",
    "        # proporção entre diferença e média\n",
    "        proportion = [ (a/ b) for a, b in zip(diff, sym_mean) ]\n",
    "        # sMAPE\n",
    "        smape = (sum(proportion) / len(proportion) )\n",
    "        ## Avaliando modelo \n",
    "        if smape < best_smape: \n",
    "            best_smape = smape\n",
    "        ## exportando resultado\n",
    "    return(best_smape)"
   ]
  },
  {
   "cell_type": "markdown",
   "metadata": {},
   "source": [
    "**Comentário**: Defini uma função para avaliar modelos lineares que predizem a retirada de ouro. Para isso, a função:\n",
    "- separa o objetivo das características;\n",
    "- dividide o objetivo e características em k partes, onde uma parte é validação e as demais são treino;\n",
    "- ajusta um modelo linear com as parte de treino;\n",
    "- utiliza o modelo linear para prever os valores da parte de validação;\n",
    "- calcula os erros da predição com base no sMAPE;\n",
    "- retorna o modelo linear com o menor valor de sMAPE;"
   ]
  },
  {
   "cell_type": "markdown",
   "metadata": {},
   "source": [
    "### Ajustando modelos alternartivos"
   ]
  },
  {
   "cell_type": "code",
   "execution_count": 38,
   "metadata": {},
   "outputs": [],
   "source": [
    "### preparando dados para modelo completo\n",
    "cgold_train_full_r = cgold_train.drop(\"final.output.recovery\",  axis = 1)\n",
    "cgold_train_full_f = cgold_train.drop(\"rougher.output.recovery\",  axis = 1)"
   ]
  },
  {
   "cell_type": "code",
   "execution_count": 39,
   "metadata": {},
   "outputs": [
    {
     "name": "stdout",
     "output_type": "stream",
     "text": [
      "O sMAP final do modelo completo: 0.03\n"
     ]
    }
   ],
   "source": [
    "### sMAPE para o modelo completo\n",
    "smape_full_r = smape_calculation(df = cgold_train_full_r, target_var = \"rougher.output.recovery\", n_splits=3)\n",
    "smape_full_f = smape_calculation(df = cgold_train_full_f, target_var = \"final.output.recovery\", n_splits=3)\n",
    "smap_final_full = (0.25*smape_full_r) + (0.75*smape_full_f)\n",
    "print(\"O sMAP final do modelo completo:\", round(smap_final_full,2)) "
   ]
  },
  {
   "cell_type": "code",
   "execution_count": 40,
   "metadata": {},
   "outputs": [],
   "source": [
    "### reduzindo número de características\n",
    "var_set_1 = pb_vars\n",
    "var_set_1.append(\"rougher.output.recovery\")\n",
    "var_set_1.append(\"final.output.recovery\")"
   ]
  },
  {
   "cell_type": "code",
   "execution_count": 41,
   "metadata": {
    "scrolled": true
   },
   "outputs": [],
   "source": [
    "### preparando conjunto de dados para modelo reduzido\n",
    "cgold_train_red = cgold_train[var_set_1]\n",
    "cgold_train_red_r = cgold_train_red.drop(\"final.output.recovery\",  axis = 1)\n",
    "cgold_train_red_f = cgold_train_red.drop(\"rougher.output.recovery\",  axis = 1)"
   ]
  },
  {
   "cell_type": "code",
   "execution_count": 42,
   "metadata": {
    "scrolled": true
   },
   "outputs": [
    {
     "name": "stdout",
     "output_type": "stream",
     "text": [
      "O sMAP final do modelo reduzido: 0.06\n"
     ]
    }
   ],
   "source": [
    "### calculando sMAPE para o modelo reduzido\n",
    "smape_red_r = smape_calculation(df = cgold_train_red_r, target_var = \"rougher.output.recovery\", n_splits=3)\n",
    "smape_red_f = smape_calculation(df = cgold_train_red_f, target_var = \"final.output.recovery\", n_splits=3)\n",
    "smap_final_red = (0.25*smape_red_r) + (0.75*smape_red_f)\n",
    "print(\"O sMAP final do modelo reduzido:\", round(smap_final_red,2)) "
   ]
  },
  {
   "cell_type": "code",
   "execution_count": 43,
   "metadata": {},
   "outputs": [
    {
     "data": {
      "text/plain": [
       "(13254, 85)"
      ]
     },
     "execution_count": 43,
     "metadata": {},
     "output_type": "execute_result"
    }
   ],
   "source": [
    "cgold_train_full_r.shape"
   ]
  },
  {
   "cell_type": "markdown",
   "metadata": {},
   "source": [
    "**Comentário**: Comparei dois modelos de regressão linear que predizem a concentração de ouro com base na métrica SMAP:\n",
    "\n",
    "- O primeiro modelo inclui todas as características disponíveis = modelo completo;\n",
    "- O segundo modelo possui apenas as características relativas a concentração de chumbo = modelo reduzido;\n",
    "\n",
    "O modelo completo apresentou um valor de SMAP duas vezes menor que o modelo reduzido, indicando um menor erro percentual nas suas predições. Contudo, o modelo completo possui 20 vezes mais caraterísticas (parâmetros) que o modelo reduzido, o que indica uma complexidade adicional que não retorna numa melhor predição. O teste dos modelos com dados desconhecidos pode indicar qual tem uma melhor performace preditiva."
   ]
  },
  {
   "cell_type": "markdown",
   "metadata": {},
   "source": [
    "### Testando modelos"
   ]
  },
  {
   "cell_type": "code",
   "execution_count": 44,
   "metadata": {},
   "outputs": [],
   "source": [
    "### defindindo função para calcular sMAPE com base nos conjuntos de treino e teste\n",
    "def smape_test(df_train, df_test, target_var):\n",
    "    ## separando objetivos e características no treino\n",
    "    target_train = df_train[target_var]\n",
    "    features_train = df_train.drop(target_var,  axis = 1)\n",
    "    ## separando objetivos e características no teste\n",
    "    target_test = df_test[target_var]\n",
    "    features_test = df_test.drop(target_var,  axis = 1)\n",
    "    ## ajustando modelo\n",
    "    lm = LinearRegression().fit(features_train, target_train)\n",
    "    ## predizendo\n",
    "    prediction = pd.Series(lm.predict(features_test))\n",
    "    ## cálculo do sMAPE\n",
    "    # diferença entre obsevado e predição\n",
    "    diff = [ abs( a - b) for a, b in zip(target_test, prediction) ] \n",
    "    # média simétrica\n",
    "    sym_mean = [ (abs(a) + abs(b))/2 for a, b in zip(target_test, prediction) ] \n",
    "    # proporção entre diferença e média\n",
    "    proportion = [ (a/ b) for a, b in zip(diff, sym_mean) ]\n",
    "    # sMAPE\n",
    "    smape = (sum(proportion) / len(proportion) )\n",
    "    ## exportando resultado\n",
    "    return(smape)"
   ]
  },
  {
   "cell_type": "markdown",
   "metadata": {},
   "source": [
    "**Comentário**: Defini uma função para testar modelos lineares que predizem a retirada de ouro. Para isso, a função:\n",
    "- separa o objetivo das características nos conjuntos de treino e teste;\n",
    "- ajusta um modelo linear com base no objetivo e característcas de treino;\n",
    "- utiliza o modelo linear para prever o objetivo com base nas características de teste;\n",
    "- calcula os erros da predição com base no sMAPE;"
   ]
  },
  {
   "cell_type": "code",
   "execution_count": 45,
   "metadata": {},
   "outputs": [],
   "source": [
    "### preparando conjuntos de teste para o modelo completo\n",
    "cgold_test_full_r = cgold_test.drop(\"final.output.recovery\",  axis = 1)\n",
    "cgold_test_full_f = cgold_train.drop(\"rougher.output.recovery\",  axis = 1)"
   ]
  },
  {
   "cell_type": "code",
   "execution_count": 46,
   "metadata": {},
   "outputs": [
    {
     "name": "stdout",
     "output_type": "stream",
     "text": [
      "O sMAP final do modelo completo: 0.5\n"
     ]
    }
   ],
   "source": [
    "### calculando sMAPE para o modelo completo\n",
    "test_smape_full_r = smape_test(df_train = cgold_train_full_r , df_test = cgold_test_full_r, target_var= \"rougher.output.recovery\")\n",
    "test_smape_full_f = smape_test(df_train = cgold_train_full_f , df_test = cgold_test_full_f, target_var= \"final.output.recovery\")\n",
    "test_smap_final_full = (0.25*test_smape_full_r) + (0.75*test_smape_full_f)\n",
    "print(\"O sMAP final do modelo completo:\", round(test_smap_final_full,2)) "
   ]
  },
  {
   "cell_type": "code",
   "execution_count": 47,
   "metadata": {},
   "outputs": [],
   "source": [
    "### preparando conjunto de teste para o modelo reduzido\n",
    "cgold_test_red = cgold_test[var_set_1]\n",
    "cgold_test_red_r = cgold_test_red.drop(\"final.output.recovery\",  axis = 1)\n",
    "cgold_test_red_f = cgold_test_red.drop(\"rougher.output.recovery\",  axis = 1)"
   ]
  },
  {
   "cell_type": "code",
   "execution_count": 48,
   "metadata": {},
   "outputs": [
    {
     "name": "stdout",
     "output_type": "stream",
     "text": [
      "O sMAP final do modelo reduzido: 0.06\n"
     ]
    }
   ],
   "source": [
    "### calculando sMAPE para o modelo reduzido\n",
    "test_smape_red_r = smape_test(df_train = cgold_train_red_r , df_test = cgold_test_red_r, target_var= \"rougher.output.recovery\")\n",
    "test_smape_red_f = smape_test(df_train = cgold_train_red_f , df_test = cgold_test_red_f, target_var= \"final.output.recovery\")\n",
    "test_smap_final_red = (0.25*test_smape_red_r) + (0.75*test_smape_red_f)\n",
    "print(\"O sMAP final do modelo reduzido:\", round(test_smap_final_red,2)) "
   ]
  },
  {
   "cell_type": "markdown",
   "metadata": {},
   "source": [
    "# Conclusão"
   ]
  },
  {
   "cell_type": "markdown",
   "metadata": {},
   "source": [
    "Testei dois modelos de regressão linear que predizem a concentração de ouro com base na métrica SMAP:\n",
    "\n",
    "- O primeiro modelo inclui todas as características disponíveis = modelo completo;\n",
    "- O segundo modelo possui apenas as características relativas a concentração de chumbo = modelo reduzido;\n",
    "\n",
    "O modelo completo apresentou um valor de SMAP muito maior que o do modelo reduzido, indicando que o modelo completo possui uma poder de predição menor sobre a concentração de ouro extraída. Baseado nisto, o modelo reduzido é o mais adequado para predizer a concentração de ouro extraído."
   ]
  }
 ],
 "metadata": {
  "kernelspec": {
   "display_name": "Python 3 (ipykernel)",
   "language": "python",
   "name": "python3"
  },
  "language_info": {
   "codemirror_mode": {
    "name": "ipython",
    "version": 3
   },
   "file_extension": ".py",
   "mimetype": "text/x-python",
   "name": "python",
   "nbconvert_exporter": "python",
   "pygments_lexer": "ipython3",
   "version": "3.9.5"
  },
  "toc": {
   "base_numbering": 1,
   "nav_menu": {},
   "number_sections": true,
   "sideBar": true,
   "skip_h1_title": true,
   "title_cell": "Table of Contents",
   "title_sidebar": "Contents",
   "toc_cell": false,
   "toc_position": {},
   "toc_section_display": true,
   "toc_window_display": false
  }
 },
 "nbformat": 4,
 "nbformat_minor": 2
}
